{
 "cells": [
  {
   "cell_type": "code",
   "execution_count": 523,
   "id": "2589dcf2-b23c-49e3-828a-cddb001ec79f",
   "metadata": {},
   "outputs": [
    {
     "data": {
      "text/plain": [
       "(5942, 26)"
      ]
     },
     "execution_count": 523,
     "metadata": {},
     "output_type": "execute_result"
    }
   ],
   "source": [
    "import pandas as pd\n",
    "import matplotlib.pyplot as plt\n",
    "import numpy as np\n",
    "import seaborn as sns; sns.set_theme()\n",
    "import random\n",
    "import matplotlib as mpl #additional plotting functionality\n",
    "\n",
    "mpl.rcParams['figure.dpi'] = 400 #high resolution figures\n",
    "%matplotlib inline\n",
    "\n",
    "EXCEL_DATABASE = pd.read_excel('BD_NOTAS.xlsx')\n",
    "EXCEL_DATABASE.shape"
   ]
  },
  {
   "cell_type": "code",
   "execution_count": 524,
   "id": "3cad1821-108c-40a5-a5ee-a13be33639ef",
   "metadata": {},
   "outputs": [
    {
     "name": "stdout",
     "output_type": "stream",
     "text": [
      "<class 'pandas.core.frame.DataFrame'>\n",
      "RangeIndex: 5942 entries, 0 to 5941\n",
      "Data columns (total 18 columns):\n",
      " #   Column       Non-Null Count  Dtype         \n",
      "---  ------       --------------  -----         \n",
      " 0   MEDIO        5942 non-null   object        \n",
      " 1   FECHA        5942 non-null   datetime64[ns]\n",
      " 2   TITULO       5942 non-null   object        \n",
      " 3   FUENTE       5942 non-null   object        \n",
      " 4   ACTOR        5226 non-null   object        \n",
      " 5   TEMA         5942 non-null   object        \n",
      " 6   SUBTEMA      5925 non-null   object        \n",
      " 7   GENERO       5936 non-null   object        \n",
      " 8   VALORACION   5942 non-null   object        \n",
      " 9   PLANA        5585 non-null   float64       \n",
      " 10  TIRAJE       5942 non-null   int64         \n",
      " 11  AUDIENCIA    5942 non-null   float64       \n",
      " 12  COSTO DOLAR  5942 non-null   float64       \n",
      " 13  AUTOR        5942 non-null   object        \n",
      " 14  SECCION      5931 non-null   object        \n",
      " 15  PAIS         5942 non-null   object        \n",
      " 16  ESTADO       5942 non-null   object        \n",
      " 17  ORIGEN       5942 non-null   object        \n",
      "dtypes: datetime64[ns](1), float64(3), int64(1), object(13)\n",
      "memory usage: 835.7+ KB\n"
     ]
    }
   ],
   "source": [
    "# we can drop some columns with no relevant information\n",
    "df = EXCEL_DATABASE.drop(columns=['NO.', 'SEMANA', 'VOCERO RELEVANTE', 'MES', 'AÑO', 'TIEMPO', 'FRACCION', 'COSTO']) # renamed to df for easier manipulation\n",
    "df.info()"
   ]
  },
  {
   "cell_type": "code",
   "execution_count": 525,
   "id": "b4d2f7bc-c0e9-49cf-adc5-6930f9d0ecb6",
   "metadata": {},
   "outputs": [
    {
     "data": {
      "text/plain": [
       "MEDIO           0.000000\n",
       "FECHA           0.000000\n",
       "TITULO          0.000000\n",
       "FUENTE          0.000000\n",
       "ACTOR          12.049815\n",
       "TEMA            0.000000\n",
       "SUBTEMA         0.286099\n",
       "GENERO          0.100976\n",
       "VALORACION      0.000000\n",
       "PLANA           6.008078\n",
       "TIRAJE          0.000000\n",
       "AUDIENCIA       0.000000\n",
       "COSTO DOLAR     0.000000\n",
       "AUTOR           0.000000\n",
       "SECCION         0.185123\n",
       "PAIS            0.000000\n",
       "ESTADO          0.000000\n",
       "ORIGEN          0.000000\n",
       "dtype: float64"
      ]
     },
     "execution_count": 525,
     "metadata": {},
     "output_type": "execute_result"
    }
   ],
   "source": [
    "# Identify percentage of null values in each column.\n",
    "df.isnull().sum()*100/df.isnull().count()"
   ]
  },
  {
   "cell_type": "code",
   "execution_count": 526,
   "id": "76c962c7-5eb4-4577-8544-3cef608a2699",
   "metadata": {},
   "outputs": [
    {
     "name": "stdout",
     "output_type": "stream",
     "text": [
      "['AUTORIDADES' 'ACADEMIA' 'ONG\\x92S' 'ESPECIALISTA' 'SOCIEDAD' 'INDUSTRIA'\n",
      " 'MEDIOS' nan 'PR Indirecto' 'SALUD' 'PR INDIRECTO']\n",
      "['Nota' 'Opinión' 'Entrevista' 'Vídeo/Story' 'Desplegado' 'Post'\n",
      " 'Inserción Pagada' nan 'POLÍTICAS PÚBLICAS INTEGRALES' 'Publicidad'\n",
      " 'INDUSTRIA DE BEBIDAS']\n",
      "['SOLUCIONES A LA OBESIDAD' 'CAUSAS A LA OBESIDAD' 'RESTRICCIONES'\n",
      " 'SUSTITUTOS DE AZÚCAR' 'AZÚCAR' 'OTROS' 'DAÑO POR CONSUMO'\n",
      " 'BENEFICIOS PERCIBIDOS DE REFRESCO' 'MERCADO' nan 'MULTIFACTORIALIDAD'\n",
      " 'CONSUMO DE REFRESCOS' 'INDUSTRIA DE BEBIDAS']\n"
     ]
    }
   ],
   "source": [
    "def print_unique_values(col):\n",
    "    print(pd.unique(df[col]))\n",
    "    \n",
    "print_unique_values('ACTOR')\n",
    "print_unique_values('GENERO')\n",
    "print_unique_values('SUBTEMA')\n",
    "# print_unique_values('SECCION')"
   ]
  },
  {
   "cell_type": "code",
   "execution_count": 527,
   "id": "f3440ab1-a809-46c2-8909-6e9fe4cd31c0",
   "metadata": {},
   "outputs": [
    {
     "name": "stderr",
     "output_type": "stream",
     "text": [
      "c:\\users\\nomad\\documents\\work\\aleph\\test\\venv\\lib\\site-packages\\pandas\\core\\indexing.py:1732: SettingWithCopyWarning: \n",
      "A value is trying to be set on a copy of a slice from a DataFrame\n",
      "\n",
      "See the caveats in the documentation: https://pandas.pydata.org/pandas-docs/stable/user_guide/indexing.html#returning-a-view-versus-a-copy\n",
      "  self._setitem_single_block(indexer, value, name)\n"
     ]
    }
   ],
   "source": [
    "# Columnas Actor, Genero, Subtema y Seccion presentan valores nulos pero tienen información relevante, por lo que es necesaria una estrategia para reemplazar esos valores nulos.\n",
    "# la estrategia es sustituir con los mismos valores encontrados en la colección, aquellos faltantes mediante probabilidades pesadas. \n",
    "# Encontramos la probabilidad de un valor contando el numero de ocurrencias del mismo entre el total de ocurrencias. \n",
    "# Entonces estamos realizando una sustitucion de manera \"balanceada\". \n",
    "\n",
    "def balance_column(col):\n",
    "    vals = pd.unique(df[col])\n",
    "    vals = [x for x in vals if type(x) is str]\n",
    "    w = {} # weights\n",
    "    nuls = df[df[col].isnull()].shape[0]\n",
    "    for v in vals:\n",
    "        if type(v) is str:\n",
    "            w[v] = df[df[col] == v].shape[0]*100 / df.shape[0] # generamos un porcentaje porque random.choice los recibe como pesos de prob.\n",
    "    c = df[col]\n",
    "    c.loc[c[c.isnull()].index] = random.choices( vals, weights=w.values(), k=nuls )\n",
    "    \n",
    "balance_column('ACTOR')\n",
    "balance_column('GENERO')\n",
    "balance_column('SUBTEMA')\n",
    "balance_column('SECCION')"
   ]
  },
  {
   "cell_type": "code",
   "execution_count": 528,
   "id": "4cbc4bbc-ad93-4f17-a648-8be397fd0518",
   "metadata": {},
   "outputs": [
    {
     "data": {
      "text/plain": [
       "MEDIO          0.000000\n",
       "FECHA          0.000000\n",
       "TITULO         0.000000\n",
       "FUENTE         0.000000\n",
       "ACTOR          0.000000\n",
       "TEMA           0.000000\n",
       "SUBTEMA        0.000000\n",
       "GENERO         0.000000\n",
       "VALORACION     0.000000\n",
       "PLANA          6.008078\n",
       "TIRAJE         0.000000\n",
       "AUDIENCIA      0.000000\n",
       "COSTO DOLAR    0.000000\n",
       "AUTOR          0.000000\n",
       "SECCION        0.000000\n",
       "PAIS           0.000000\n",
       "ESTADO         0.000000\n",
       "ORIGEN         0.000000\n",
       "dtype: float64"
      ]
     },
     "execution_count": 528,
     "metadata": {},
     "output_type": "execute_result"
    }
   ],
   "source": [
    "df.isnull().sum()*100/df.isnull().count()"
   ]
  },
  {
   "cell_type": "code",
   "execution_count": 529,
   "id": "867415a4-92c6-46f3-8fcd-17e26975e1c1",
   "metadata": {},
   "outputs": [
    {
     "name": "stdout",
     "output_type": "stream",
     "text": [
      "['AUTORIDADES' 'ACADEMIA' 'ONG\\x92S' 'ESPECIALISTA' 'SOCIEDAD' 'INDUSTRIA'\n",
      " 'MEDIOS' 'PR Indirecto' 'SALUD' 'PR INDIRECTO']\n",
      "['Nota' 'Opinión' 'Entrevista' 'Vídeo/Story' 'Desplegado' 'Post'\n",
      " 'Inserción Pagada' 'POLÍTICAS PÚBLICAS INTEGRALES' 'Publicidad'\n",
      " 'INDUSTRIA DE BEBIDAS']\n",
      "['SOLUCIONES A LA OBESIDAD' 'CAUSAS A LA OBESIDAD' 'RESTRICCIONES'\n",
      " 'SUSTITUTOS DE AZÚCAR' 'AZÚCAR' 'OTROS' 'DAÑO POR CONSUMO'\n",
      " 'BENEFICIOS PERCIBIDOS DE REFRESCO' 'MERCADO' 'MULTIFACTORIALIDAD'\n",
      " 'CONSUMO DE REFRESCOS' 'INDUSTRIA DE BEBIDAS']\n"
     ]
    }
   ],
   "source": [
    "# verificamos que ya no encontramos nan\n",
    "\n",
    "print_unique_values('ACTOR')\n",
    "print_unique_values('GENERO')\n",
    "print_unique_values('SUBTEMA')\n",
    "# print_unique_values('SECCION')"
   ]
  },
  {
   "cell_type": "code",
   "execution_count": 530,
   "id": "c0452da2-c009-4199-99bf-c9f71c9a9274",
   "metadata": {},
   "outputs": [
    {
     "name": "stderr",
     "output_type": "stream",
     "text": [
      "C:\\Users\\nomad\\AppData\\Local\\Temp/ipykernel_4428/4195134502.py:1: SettingWithCopyWarning: \n",
      "A value is trying to be set on a copy of a slice from a DataFrame\n",
      "\n",
      "See the caveats in the documentation: https://pandas.pydata.org/pandas-docs/stable/user_guide/indexing.html#returning-a-view-versus-a-copy\n",
      "  df.PLANA[df.PLANA.isnull()] = df.PLANA.interpolate(method='linear') # interpolate missing values in PLANA\n"
     ]
    }
   ],
   "source": [
    "df.PLANA[df.PLANA.isnull()] = df.PLANA.interpolate(method='linear') # interpolate missing values in PLANA"
   ]
  },
  {
   "cell_type": "code",
   "execution_count": 531,
   "id": "8d40ce97-c372-45e9-8bb4-825e76197418",
   "metadata": {},
   "outputs": [
    {
     "data": {
      "text/plain": [
       "MEDIO          0.0\n",
       "FECHA          0.0\n",
       "TITULO         0.0\n",
       "FUENTE         0.0\n",
       "ACTOR          0.0\n",
       "TEMA           0.0\n",
       "SUBTEMA        0.0\n",
       "GENERO         0.0\n",
       "VALORACION     0.0\n",
       "PLANA          0.0\n",
       "TIRAJE         0.0\n",
       "AUDIENCIA      0.0\n",
       "COSTO DOLAR    0.0\n",
       "AUTOR          0.0\n",
       "SECCION        0.0\n",
       "PAIS           0.0\n",
       "ESTADO         0.0\n",
       "ORIGEN         0.0\n",
       "dtype: float64"
      ]
     },
     "execution_count": 531,
     "metadata": {},
     "output_type": "execute_result"
    }
   ],
   "source": [
    "df.isnull().sum()*100/df.isnull().count()"
   ]
  },
  {
   "cell_type": "code",
   "execution_count": 532,
   "id": "53fc1ec5-232b-4226-8ba4-304b7f5ebcfb",
   "metadata": {},
   "outputs": [],
   "source": [
    "# OPTIONAL\n",
    "# export the data \n",
    "\n",
    "# df.to_excel('clean_data_19_cols.xlsx')"
   ]
  },
  {
   "cell_type": "code",
   "execution_count": 533,
   "id": "b8858335-0e57-4a8d-84b0-ed8ed9ad5951",
   "metadata": {},
   "outputs": [
    {
     "name": "stdout",
     "output_type": "stream",
     "text": [
      "<class 'pandas.core.frame.DataFrame'>\n",
      "RangeIndex: 5942 entries, 0 to 5941\n",
      "Data columns (total 18 columns):\n",
      " #   Column       Non-Null Count  Dtype         \n",
      "---  ------       --------------  -----         \n",
      " 0   MEDIO        5942 non-null   object        \n",
      " 1   FECHA        5942 non-null   datetime64[ns]\n",
      " 2   TITULO       5942 non-null   object        \n",
      " 3   FUENTE       5942 non-null   object        \n",
      " 4   ACTOR        5942 non-null   object        \n",
      " 5   TEMA         5942 non-null   object        \n",
      " 6   SUBTEMA      5942 non-null   object        \n",
      " 7   GENERO       5942 non-null   object        \n",
      " 8   VALORACION   5942 non-null   object        \n",
      " 9   PLANA        5942 non-null   float64       \n",
      " 10  TIRAJE       5942 non-null   int64         \n",
      " 11  AUDIENCIA    5942 non-null   float64       \n",
      " 12  COSTO DOLAR  5942 non-null   float64       \n",
      " 13  AUTOR        5942 non-null   object        \n",
      " 14  SECCION      5942 non-null   object        \n",
      " 15  PAIS         5942 non-null   object        \n",
      " 16  ESTADO       5942 non-null   object        \n",
      " 17  ORIGEN       5942 non-null   object        \n",
      "dtypes: datetime64[ns](1), float64(3), int64(1), object(13)\n",
      "memory usage: 835.7+ KB\n"
     ]
    }
   ],
   "source": [
    "# let's see the some relevant info\n",
    "df.info()"
   ]
  },
  {
   "cell_type": "code",
   "execution_count": 534,
   "id": "949e9a10-6c1c-41bc-bd00-6cc1eeb549e7",
   "metadata": {},
   "outputs": [
    {
     "data": {
      "text/html": [
       "<div>\n",
       "<style scoped>\n",
       "    .dataframe tbody tr th:only-of-type {\n",
       "        vertical-align: middle;\n",
       "    }\n",
       "\n",
       "    .dataframe tbody tr th {\n",
       "        vertical-align: top;\n",
       "    }\n",
       "\n",
       "    .dataframe thead th {\n",
       "        text-align: right;\n",
       "    }\n",
       "</style>\n",
       "<table border=\"1\" class=\"dataframe\">\n",
       "  <thead>\n",
       "    <tr style=\"text-align: right;\">\n",
       "      <th></th>\n",
       "      <th>PLANA</th>\n",
       "      <th>TIRAJE</th>\n",
       "      <th>AUDIENCIA</th>\n",
       "      <th>COSTO DOLAR</th>\n",
       "    </tr>\n",
       "  </thead>\n",
       "  <tbody>\n",
       "    <tr>\n",
       "      <th>count</th>\n",
       "      <td>5942.000000</td>\n",
       "      <td>5.942000e+03</td>\n",
       "      <td>5.942000e+03</td>\n",
       "      <td>5942.000000</td>\n",
       "    </tr>\n",
       "    <tr>\n",
       "      <th>mean</th>\n",
       "      <td>0.515506</td>\n",
       "      <td>1.659922e+05</td>\n",
       "      <td>2.113208e+05</td>\n",
       "      <td>2063.511961</td>\n",
       "    </tr>\n",
       "    <tr>\n",
       "      <th>std</th>\n",
       "      <td>0.419866</td>\n",
       "      <td>9.164786e+05</td>\n",
       "      <td>9.335341e+05</td>\n",
       "      <td>11634.512983</td>\n",
       "    </tr>\n",
       "    <tr>\n",
       "      <th>min</th>\n",
       "      <td>0.015625</td>\n",
       "      <td>0.000000e+00</td>\n",
       "      <td>0.000000e+00</td>\n",
       "      <td>0.000000</td>\n",
       "    </tr>\n",
       "    <tr>\n",
       "      <th>25%</th>\n",
       "      <td>0.500000</td>\n",
       "      <td>6.500000e+03</td>\n",
       "      <td>6.500000e+03</td>\n",
       "      <td>272.109125</td>\n",
       "    </tr>\n",
       "    <tr>\n",
       "      <th>50%</th>\n",
       "      <td>0.500000</td>\n",
       "      <td>3.872500e+04</td>\n",
       "      <td>4.125000e+04</td>\n",
       "      <td>625.000000</td>\n",
       "    </tr>\n",
       "    <tr>\n",
       "      <th>75%</th>\n",
       "      <td>0.500000</td>\n",
       "      <td>1.102360e+05</td>\n",
       "      <td>1.966660e+05</td>\n",
       "      <td>1500.000000</td>\n",
       "    </tr>\n",
       "    <tr>\n",
       "      <th>max</th>\n",
       "      <td>11.000000</td>\n",
       "      <td>3.432333e+07</td>\n",
       "      <td>3.432333e+07</td>\n",
       "      <td>498600.000000</td>\n",
       "    </tr>\n",
       "  </tbody>\n",
       "</table>\n",
       "</div>"
      ],
      "text/plain": [
       "             PLANA        TIRAJE     AUDIENCIA    COSTO DOLAR\n",
       "count  5942.000000  5.942000e+03  5.942000e+03    5942.000000\n",
       "mean      0.515506  1.659922e+05  2.113208e+05    2063.511961\n",
       "std       0.419866  9.164786e+05  9.335341e+05   11634.512983\n",
       "min       0.015625  0.000000e+00  0.000000e+00       0.000000\n",
       "25%       0.500000  6.500000e+03  6.500000e+03     272.109125\n",
       "50%       0.500000  3.872500e+04  4.125000e+04     625.000000\n",
       "75%       0.500000  1.102360e+05  1.966660e+05    1500.000000\n",
       "max      11.000000  3.432333e+07  3.432333e+07  498600.000000"
      ]
     },
     "execution_count": 534,
     "metadata": {},
     "output_type": "execute_result"
    }
   ],
   "source": [
    "df.describe() # statistics of numeric columns"
   ]
  },
  {
   "cell_type": "code",
   "execution_count": 535,
   "id": "1234288a-5a9a-433d-bf8e-7f65607db396",
   "metadata": {},
   "outputs": [
    {
     "name": "stdout",
     "output_type": "stream",
     "text": [
      "['Periódicos' 'Internet' 'Radio' 'FaceBook' 'Instagram' 'Televisión'\n",
      " 'Revistas' 'Twitter' 'Youtube']\n"
     ]
    }
   ],
   "source": [
    "# dividiendo por medios\n",
    "print(pd.unique(df.MEDIO))\n",
    "periodico = df[df.MEDIO == 'Periódicos']\n",
    "inter = df[df.MEDIO == 'Internet']\n",
    "rad = df[df.MEDIO == 'Radio']\n",
    "fb = df[df.MEDIO == 'FaceBook']\n",
    "ig = df[df.MEDIO == 'Instagram']\n",
    "tv = df[df.MEDIO == 'Televisión']\n",
    "revista = df[df.MEDIO == 'Revistas']\n",
    "tt = df[df.MEDIO == 'Twitter']\n",
    "yt = df[df.MEDIO == 'Youtube']"
   ]
  },
  {
   "cell_type": "code",
   "execution_count": 536,
   "id": "726a9f2d-78c0-4599-b6c9-97b245390464",
   "metadata": {},
   "outputs": [
    {
     "name": "stdout",
     "output_type": "stream",
     "text": [
      "(957, 18)\n",
      "(4523, 18)\n",
      "(116, 18)\n",
      "(103, 18)\n",
      "(27, 18)\n",
      "(52, 18)\n",
      "(105, 18)\n",
      "(58, 18)\n",
      "(1, 18)\n"
     ]
    }
   ],
   "source": [
    "print(periodico.shape)\n",
    "print(inter.shape)\n",
    "print(rad.shape)\n",
    "print(fb.shape)\n",
    "print(ig.shape)\n",
    "print(tv.shape)\n",
    "print(revista.shape)\n",
    "print(tt.shape)\n",
    "print(yt.shape)"
   ]
  },
  {
   "cell_type": "code",
   "execution_count": 567,
   "id": "c7292d0c-b184-4b53-a9ec-9e6da4eaecd8",
   "metadata": {},
   "outputs": [
    {
     "data": {
      "text/plain": [
       "([<matplotlib.patches.Wedge at 0x24ede6c4fa0>,\n",
       "  <matplotlib.patches.Wedge at 0x24ede6fb820>,\n",
       "  <matplotlib.patches.Wedge at 0x24ede6fbd00>,\n",
       "  <matplotlib.patches.Wedge at 0x24ede70b220>,\n",
       "  <matplotlib.patches.Wedge at 0x24ede70b700>,\n",
       "  <matplotlib.patches.Wedge at 0x24ede70bbe0>,\n",
       "  <matplotlib.patches.Wedge at 0x24ede718100>,\n",
       "  <matplotlib.patches.Wedge at 0x24ede7185e0>,\n",
       "  <matplotlib.patches.Wedge at 0x24ede718ac0>],\n",
       " [Text(0.9621725280988274, 0.5331266511551561, 'Periódicos'),\n",
       "  Text(-1.0625434788566437, -0.28460737084485566, 'Internet'),\n",
       "  Text(1.0011436201861976, -0.4557537183177716, 'Radio'),\n",
       "  Text(1.0470927942195893, -0.33704106618246554, 'FaceBook'),\n",
       "  Text(1.0677678264365906, -0.2643328750399369, 'Instagram'),\n",
       "  Text(1.0778740251689336, -0.21951670976515905, 'Televisión'),\n",
       "  Text(1.0923633526656928, -0.12939206217139934, 'Revistas'),\n",
       "  Text(1.0994465739708865, -0.03488883752262406, 'Twitter'),\n",
       "  Text(1.0999998463338776, -0.0005814339565565289, 'Youtube')])"
      ]
     },
     "execution_count": 567,
     "metadata": {},
     "output_type": "execute_result"
    },
    {
     "data": {
      "image/png": "[encoded data removed]",
      "text/plain": [
       "<Figure size 1440x720 with 1 Axes>"
      ]
     },
     "metadata": {},
     "output_type": "display_data"
    }
   ],
   "source": [
    "sizes = []\n",
    "for m in pd.unique(df.MEDIO):\n",
    "    sizes.append(df[df.MEDIO == m].shape[0])\n",
    "\n",
    "    \n",
    "fig, axs = plt.subplots( figsize=(20, 10))\n",
    "plt.pie(sizes,\n",
    "        labels=pd.unique(df.MEDIO),\n",
    "        rotatelabels=True\n",
    " )"
   ]
  },
  {
   "cell_type": "code",
   "execution_count": 537,
   "id": "0b16aaf5-15a0-4698-a12e-a87758c67a5b",
   "metadata": {},
   "outputs": [
    {
     "data": {
      "text/plain": [
       "Text(0.5, 1.0, 'Television')"
      ]
     },
     "execution_count": 537,
     "metadata": {},
     "output_type": "execute_result"
    },
    {
     "data": {
      "image/png": "[encoded data removed]",
      "text/plain": [
       "<Figure size 1656x864 with 12 Axes>"
      ]
     },
     "metadata": {
      "needs_background": "light"
     },
     "output_type": "display_data"
    }
   ],
   "source": [
    "fig, axs = plt.subplots(ncols=3, nrows=2 , figsize=(23, 12))\n",
    "# plt.subplots_adjust(top=0.5)\n",
    "\n",
    "sns.heatmap( periodico.corr(), ax=axs[0, 0] )\n",
    "axs[0,0].set_title('Periodico')\n",
    "\n",
    "sns.heatmap( inter.corr(), ax=axs[0, 1] )\n",
    "axs[0,1].set_title('Internet')\n",
    "\n",
    "sns.heatmap( rad.corr(), ax=axs[0, 2] )\n",
    "axs[0,2].set_title('Radio')\n",
    "\n",
    "sns.heatmap( fb.corr(), ax=axs[1, 0] )\n",
    "axs[1,0].set_title('Facebook')\n",
    "\n",
    "sns.heatmap( ig.corr(), ax=axs[1, 1] )\n",
    "axs[1,1].set_title('Instagram')\n",
    "\n",
    "sns.heatmap( tv.corr(), ax=axs[1, 2] )\n",
    "axs[1,2].set_title('Television')"
   ]
  },
  {
   "cell_type": "code",
   "execution_count": 565,
   "id": "10746bef-eba7-4c1f-b324-c1e31208456a",
   "metadata": {},
   "outputs": [
    {
     "data": {
      "text/plain": [
       "<AxesSubplot:xlabel='MEDIO', ylabel='COSTO DOLAR'>"
      ]
     },
     "execution_count": 565,
     "metadata": {},
     "output_type": "execute_result"
    },
    {
     "data": {
      "image/png": "[encoded data removed]",
      "text/plain": [
       "<Figure size 1512x1224 with 2 Axes>"
      ]
     },
     "metadata": {
      "needs_background": "light"
     },
     "output_type": "display_data"
    }
   ],
   "source": [
    "fig, axs = plt.subplots(nrows=2, ncols=1 ,figsize=(21, 17))\n",
    "sns.boxplot(x=df.MEDIO, y=df.AUDIENCIA, width=.8, ax=axs[0])\n",
    "sns.boxplot(x=df.MEDIO, y=df[\"COSTO DOLAR\"], width=.8, ax=axs[1])"
   ]
  },
  {
   "cell_type": "code",
   "execution_count": null,
   "id": "5192f20b-9f85-4dd5-bc4d-6053a856c699",
   "metadata": {},
   "outputs": [],
   "source": [
    "fig, axs = plt.subplots(figsize=(22, 12))\n",
    "sns.boxplot(x=df.MEDIO, y=df.AUDIENCIA, width=.8, ax=axs)"
   ]
  },
  {
   "cell_type": "code",
   "execution_count": 540,
   "id": "31e460a6-b408-4997-8f4b-a87b22c732a2",
   "metadata": {},
   "outputs": [
    {
     "data": {
      "text/plain": [
       "<AxesSubplot:xlabel='TIRAJE', ylabel='Count'>"
      ]
     },
     "execution_count": 540,
     "metadata": {},
     "output_type": "execute_result"
    },
    {
     "data": {
      "image/png": "[encoded data removed]",
      "text/plain": [
       "<Figure size 432x288 with 1 Axes>"
      ]
     },
     "metadata": {
      "needs_background": "light"
     },
     "output_type": "display_data"
    }
   ],
   "source": [
    "sns.histplot(x=df.TIRAJE[df.TIRAJE < 100000])"
   ]
  },
  {
   "cell_type": "code",
   "execution_count": 541,
   "id": "2ba497a8-0147-4770-8ac0-3350d365d29f",
   "metadata": {},
   "outputs": [
    {
     "data": {
      "text/plain": [
       "<AxesSubplot:xlabel='AUDIENCIA'>"
      ]
     },
     "execution_count": 541,
     "metadata": {},
     "output_type": "execute_result"
    },
    {
     "data": {
      "image/png": "[encoded data removed]",
      "text/plain": [
       "<Figure size 432x288 with 1 Axes>"
      ]
     },
     "metadata": {
      "needs_background": "light"
     },
     "output_type": "display_data"
    }
   ],
   "source": [
    "sns.boxplot(x=df.AUDIENCIA[df.AUDIENCIA < 330000])"
   ]
  },
  {
   "cell_type": "code",
   "execution_count": 542,
   "id": "dcd1d229-1362-4295-9d9e-325af8b1e97c",
   "metadata": {},
   "outputs": [
    {
     "data": {
      "text/plain": [
       "<AxesSubplot:>"
      ]
     },
     "execution_count": 542,
     "metadata": {},
     "output_type": "execute_result"
    },
    {
     "data": {
      "image/png": "[encoded data removed]",
      "text/plain": [
       "<Figure size 432x288 with 1 Axes>"
      ]
     },
     "metadata": {
      "needs_background": "light"
     },
     "output_type": "display_data"
    }
   ],
   "source": [
    "df.PLANA[df.PLANA <= 1].hist()"
   ]
  },
  {
   "cell_type": "code",
   "execution_count": 543,
   "id": "c05f8e5a-cfed-43d5-bf87-f486140691a0",
   "metadata": {},
   "outputs": [
    {
     "name": "stdout",
     "output_type": "stream",
     "text": [
      "0.22057384218047757\n",
      "0.40113158361907736\n",
      "0.5155060444345338\n",
      "0.5155060444345338\n",
      "\n",
      "0.0\n",
      "0.0\n",
      "165992.15129585998\n",
      "165992.15129585998\n",
      "\n",
      "0.0\n",
      "0.0\n",
      "211320.80425782563\n",
      "211320.80425782563\n",
      "\n"
     ]
    },
    {
     "name": "stderr",
     "output_type": "stream",
     "text": [
      "c:\\users\\nomad\\documents\\work\\aleph\\test\\venv\\lib\\site-packages\\scipy\\stats\\stats.py:275: RuntimeWarning: divide by zero encountered in log\n",
      "  log_a = np.log(np.array(a, dtype=dtype))\n"
     ]
    }
   ],
   "source": [
    "from scipy.stats import hmean, gmean\n",
    "\n",
    "print(hmean(df.PLANA))\n",
    "print(gmean(df.PLANA))\n",
    "print(np.mean(df.PLANA))\n",
    "print(np.average(df.PLANA))\n",
    "print()\n",
    "print(hmean(df.TIRAJE))\n",
    "print(gmean(df.TIRAJE))\n",
    "print(np.mean(df.TIRAJE))\n",
    "print(np.average(df.TIRAJE))\n",
    "print()\n",
    "print(hmean(df.AUDIENCIA))\n",
    "print(gmean(df.AUDIENCIA))\n",
    "print(np.mean(df.AUDIENCIA))\n",
    "print(np.average(df.AUDIENCIA))\n",
    "print()\n"
   ]
  },
  {
   "cell_type": "code",
   "execution_count": 544,
   "id": "24409142-799f-43ba-9cdb-f74fb0443b6f",
   "metadata": {},
   "outputs": [
    {
     "data": {
      "text/plain": [
       "count           54\n",
       "unique           5\n",
       "top       FaceBook\n",
       "freq            22\n",
       "Name: MEDIO, dtype: object"
      ]
     },
     "execution_count": 544,
     "metadata": {},
     "output_type": "execute_result"
    }
   ],
   "source": [
    "EXCEL_DATABASE[EXCEL_DATABASE.AUDIENCIA > 2000000].MEDIO.describe()"
   ]
  },
  {
   "cell_type": "code",
   "execution_count": 545,
   "id": "30ae4f6e-faf3-4d6b-bc9b-14f67ef09b96",
   "metadata": {},
   "outputs": [],
   "source": [
    "periodicos = EXCEL_DATABASE[ EXCEL_DATABASE.MEDIO == 'Periódicos' ]\n",
    "internet = EXCEL_DATABASE[ EXCEL_DATABASE.MEDIO == 'Internet' ]\n",
    "tv = EXCEL_DATABASE[ EXCEL_DATABASE.MEDIO == 'Televisión' ]"
   ]
  },
  {
   "cell_type": "code",
   "execution_count": 546,
   "id": "9d324363-0c13-4712-9361-8bad4c789a49",
   "metadata": {},
   "outputs": [
    {
     "data": {
      "text/html": [
       "<div>\n",
       "<style scoped>\n",
       "    .dataframe tbody tr th:only-of-type {\n",
       "        vertical-align: middle;\n",
       "    }\n",
       "\n",
       "    .dataframe tbody tr th {\n",
       "        vertical-align: top;\n",
       "    }\n",
       "\n",
       "    .dataframe thead th {\n",
       "        text-align: right;\n",
       "    }\n",
       "</style>\n",
       "<table border=\"1\" class=\"dataframe\">\n",
       "  <thead>\n",
       "    <tr style=\"text-align: right;\">\n",
       "      <th></th>\n",
       "      <th>NO.</th>\n",
       "      <th>SEMANA</th>\n",
       "      <th>PLANA</th>\n",
       "      <th>TIRAJE</th>\n",
       "      <th>AUDIENCIA</th>\n",
       "      <th>COSTO</th>\n",
       "      <th>COSTO DOLAR</th>\n",
       "      <th>AÑO</th>\n",
       "    </tr>\n",
       "  </thead>\n",
       "  <tbody>\n",
       "    <tr>\n",
       "      <th>NO.</th>\n",
       "      <td>1.000000</td>\n",
       "      <td>0.800175</td>\n",
       "      <td>0.087148</td>\n",
       "      <td>-0.047083</td>\n",
       "      <td>0.008040</td>\n",
       "      <td>0.060801</td>\n",
       "      <td>0.055272</td>\n",
       "      <td>NaN</td>\n",
       "    </tr>\n",
       "    <tr>\n",
       "      <th>SEMANA</th>\n",
       "      <td>0.800175</td>\n",
       "      <td>1.000000</td>\n",
       "      <td>0.040986</td>\n",
       "      <td>-0.060656</td>\n",
       "      <td>-0.021628</td>\n",
       "      <td>0.029482</td>\n",
       "      <td>0.021506</td>\n",
       "      <td>NaN</td>\n",
       "    </tr>\n",
       "    <tr>\n",
       "      <th>PLANA</th>\n",
       "      <td>0.087148</td>\n",
       "      <td>0.040986</td>\n",
       "      <td>1.000000</td>\n",
       "      <td>-0.053451</td>\n",
       "      <td>-0.053399</td>\n",
       "      <td>0.803669</td>\n",
       "      <td>0.791219</td>\n",
       "      <td>NaN</td>\n",
       "    </tr>\n",
       "    <tr>\n",
       "      <th>TIRAJE</th>\n",
       "      <td>-0.047083</td>\n",
       "      <td>-0.060656</td>\n",
       "      <td>-0.053451</td>\n",
       "      <td>1.000000</td>\n",
       "      <td>0.870019</td>\n",
       "      <td>-0.063335</td>\n",
       "      <td>-0.060678</td>\n",
       "      <td>NaN</td>\n",
       "    </tr>\n",
       "    <tr>\n",
       "      <th>AUDIENCIA</th>\n",
       "      <td>0.008040</td>\n",
       "      <td>-0.021628</td>\n",
       "      <td>-0.053399</td>\n",
       "      <td>0.870019</td>\n",
       "      <td>1.000000</td>\n",
       "      <td>-0.120966</td>\n",
       "      <td>-0.120413</td>\n",
       "      <td>NaN</td>\n",
       "    </tr>\n",
       "    <tr>\n",
       "      <th>COSTO</th>\n",
       "      <td>0.060801</td>\n",
       "      <td>0.029482</td>\n",
       "      <td>0.803669</td>\n",
       "      <td>-0.063335</td>\n",
       "      <td>-0.120966</td>\n",
       "      <td>1.000000</td>\n",
       "      <td>0.987860</td>\n",
       "      <td>NaN</td>\n",
       "    </tr>\n",
       "    <tr>\n",
       "      <th>COSTO DOLAR</th>\n",
       "      <td>0.055272</td>\n",
       "      <td>0.021506</td>\n",
       "      <td>0.791219</td>\n",
       "      <td>-0.060678</td>\n",
       "      <td>-0.120413</td>\n",
       "      <td>0.987860</td>\n",
       "      <td>1.000000</td>\n",
       "      <td>NaN</td>\n",
       "    </tr>\n",
       "    <tr>\n",
       "      <th>AÑO</th>\n",
       "      <td>NaN</td>\n",
       "      <td>NaN</td>\n",
       "      <td>NaN</td>\n",
       "      <td>NaN</td>\n",
       "      <td>NaN</td>\n",
       "      <td>NaN</td>\n",
       "      <td>NaN</td>\n",
       "      <td>NaN</td>\n",
       "    </tr>\n",
       "  </tbody>\n",
       "</table>\n",
       "</div>"
      ],
      "text/plain": [
       "                  NO.    SEMANA     PLANA    TIRAJE  AUDIENCIA     COSTO  \\\n",
       "NO.          1.000000  0.800175  0.087148 -0.047083   0.008040  0.060801   \n",
       "SEMANA       0.800175  1.000000  0.040986 -0.060656  -0.021628  0.029482   \n",
       "PLANA        0.087148  0.040986  1.000000 -0.053451  -0.053399  0.803669   \n",
       "TIRAJE      -0.047083 -0.060656 -0.053451  1.000000   0.870019 -0.063335   \n",
       "AUDIENCIA    0.008040 -0.021628 -0.053399  0.870019   1.000000 -0.120966   \n",
       "COSTO        0.060801  0.029482  0.803669 -0.063335  -0.120966  1.000000   \n",
       "COSTO DOLAR  0.055272  0.021506  0.791219 -0.060678  -0.120413  0.987860   \n",
       "AÑO               NaN       NaN       NaN       NaN        NaN       NaN   \n",
       "\n",
       "             COSTO DOLAR  AÑO  \n",
       "NO.             0.055272  NaN  \n",
       "SEMANA          0.021506  NaN  \n",
       "PLANA           0.791219  NaN  \n",
       "TIRAJE         -0.060678  NaN  \n",
       "AUDIENCIA      -0.120413  NaN  \n",
       "COSTO           0.987860  NaN  \n",
       "COSTO DOLAR     1.000000  NaN  \n",
       "AÑO                  NaN  NaN  "
      ]
     },
     "execution_count": 546,
     "metadata": {},
     "output_type": "execute_result"
    }
   ],
   "source": [
    "periodicos.corr()"
   ]
  },
  {
   "cell_type": "raw",
   "id": "1fa4024f-7aef-4f23-b3eb-7f57331b568b",
   "metadata": {},
   "source": [
    "sns.boxplot(x=periodicos['COSTO'])"
   ]
  },
  {
   "cell_type": "code",
   "execution_count": 547,
   "id": "5beae89d-effd-4bde-a5c2-774f1fd28e77",
   "metadata": {},
   "outputs": [
    {
     "data": {
      "text/plain": [
       "<AxesSubplot:xlabel='AUDIENCIA'>"
      ]
     },
     "execution_count": 547,
     "metadata": {},
     "output_type": "execute_result"
    },
    {
     "data": {
      "image/png": "[encoded data removed]",
      "text/plain": [
       "<Figure size 432x288 with 1 Axes>"
      ]
     },
     "metadata": {
      "needs_background": "light"
     },
     "output_type": "display_data"
    }
   ],
   "source": [
    "sns.boxplot(x=periodicos['AUDIENCIA'])"
   ]
  },
  {
   "cell_type": "code",
   "execution_count": 548,
   "id": "8f18a68a-c99b-4dd7-a04e-2822455847c1",
   "metadata": {},
   "outputs": [
    {
     "data": {
      "text/plain": [
       "<AxesSubplot:xlabel='COSTO'>"
      ]
     },
     "execution_count": 548,
     "metadata": {},
     "output_type": "execute_result"
    },
    {
     "data": {
      "image/png": "[encoded data removed]",
      "text/plain": [
       "<Figure size 432x288 with 1 Axes>"
      ]
     },
     "metadata": {
      "needs_background": "light"
     },
     "output_type": "display_data"
    }
   ],
   "source": [
    "sns.boxplot(x=periodicos['COSTO'])"
   ]
  },
  {
   "cell_type": "code",
   "execution_count": 549,
   "id": "54b55c62-bab2-4d27-b2ab-b07cc1accb15",
   "metadata": {},
   "outputs": [
    {
     "data": {
      "text/plain": [
       "<AxesSubplot:xlabel='COSTO'>"
      ]
     },
     "execution_count": 549,
     "metadata": {},
     "output_type": "execute_result"
    },
    {
     "data": {
      "image/png": "[encoded data removed]",
      "text/plain": [
       "<Figure size 432x288 with 1 Axes>"
      ]
     },
     "metadata": {
      "needs_background": "light"
     },
     "output_type": "display_data"
    }
   ],
   "source": [
    "sns.boxplot(x=internet['COSTO'])"
   ]
  },
  {
   "cell_type": "code",
   "execution_count": 550,
   "id": "003816eb-bad8-4edf-858e-06505362e247",
   "metadata": {},
   "outputs": [
    {
     "data": {
      "text/html": [
       "<div>\n",
       "<style scoped>\n",
       "    .dataframe tbody tr th:only-of-type {\n",
       "        vertical-align: middle;\n",
       "    }\n",
       "\n",
       "    .dataframe tbody tr th {\n",
       "        vertical-align: top;\n",
       "    }\n",
       "\n",
       "    .dataframe thead th {\n",
       "        text-align: right;\n",
       "    }\n",
       "</style>\n",
       "<table border=\"1\" class=\"dataframe\">\n",
       "  <thead>\n",
       "    <tr style=\"text-align: right;\">\n",
       "      <th></th>\n",
       "      <th>NO.</th>\n",
       "      <th>SEMANA</th>\n",
       "      <th>PLANA</th>\n",
       "      <th>TIRAJE</th>\n",
       "      <th>AUDIENCIA</th>\n",
       "      <th>COSTO</th>\n",
       "      <th>COSTO DOLAR</th>\n",
       "      <th>AÑO</th>\n",
       "    </tr>\n",
       "  </thead>\n",
       "  <tbody>\n",
       "    <tr>\n",
       "      <th>NO.</th>\n",
       "      <td>1.000000</td>\n",
       "      <td>0.800175</td>\n",
       "      <td>0.087148</td>\n",
       "      <td>-0.047083</td>\n",
       "      <td>0.008040</td>\n",
       "      <td>0.060801</td>\n",
       "      <td>0.055272</td>\n",
       "      <td>NaN</td>\n",
       "    </tr>\n",
       "    <tr>\n",
       "      <th>SEMANA</th>\n",
       "      <td>0.800175</td>\n",
       "      <td>1.000000</td>\n",
       "      <td>0.040986</td>\n",
       "      <td>-0.060656</td>\n",
       "      <td>-0.021628</td>\n",
       "      <td>0.029482</td>\n",
       "      <td>0.021506</td>\n",
       "      <td>NaN</td>\n",
       "    </tr>\n",
       "    <tr>\n",
       "      <th>PLANA</th>\n",
       "      <td>0.087148</td>\n",
       "      <td>0.040986</td>\n",
       "      <td>1.000000</td>\n",
       "      <td>-0.053451</td>\n",
       "      <td>-0.053399</td>\n",
       "      <td>0.803669</td>\n",
       "      <td>0.791219</td>\n",
       "      <td>NaN</td>\n",
       "    </tr>\n",
       "    <tr>\n",
       "      <th>TIRAJE</th>\n",
       "      <td>-0.047083</td>\n",
       "      <td>-0.060656</td>\n",
       "      <td>-0.053451</td>\n",
       "      <td>1.000000</td>\n",
       "      <td>0.870019</td>\n",
       "      <td>-0.063335</td>\n",
       "      <td>-0.060678</td>\n",
       "      <td>NaN</td>\n",
       "    </tr>\n",
       "    <tr>\n",
       "      <th>AUDIENCIA</th>\n",
       "      <td>0.008040</td>\n",
       "      <td>-0.021628</td>\n",
       "      <td>-0.053399</td>\n",
       "      <td>0.870019</td>\n",
       "      <td>1.000000</td>\n",
       "      <td>-0.120966</td>\n",
       "      <td>-0.120413</td>\n",
       "      <td>NaN</td>\n",
       "    </tr>\n",
       "    <tr>\n",
       "      <th>COSTO</th>\n",
       "      <td>0.060801</td>\n",
       "      <td>0.029482</td>\n",
       "      <td>0.803669</td>\n",
       "      <td>-0.063335</td>\n",
       "      <td>-0.120966</td>\n",
       "      <td>1.000000</td>\n",
       "      <td>0.987860</td>\n",
       "      <td>NaN</td>\n",
       "    </tr>\n",
       "    <tr>\n",
       "      <th>COSTO DOLAR</th>\n",
       "      <td>0.055272</td>\n",
       "      <td>0.021506</td>\n",
       "      <td>0.791219</td>\n",
       "      <td>-0.060678</td>\n",
       "      <td>-0.120413</td>\n",
       "      <td>0.987860</td>\n",
       "      <td>1.000000</td>\n",
       "      <td>NaN</td>\n",
       "    </tr>\n",
       "    <tr>\n",
       "      <th>AÑO</th>\n",
       "      <td>NaN</td>\n",
       "      <td>NaN</td>\n",
       "      <td>NaN</td>\n",
       "      <td>NaN</td>\n",
       "      <td>NaN</td>\n",
       "      <td>NaN</td>\n",
       "      <td>NaN</td>\n",
       "      <td>NaN</td>\n",
       "    </tr>\n",
       "  </tbody>\n",
       "</table>\n",
       "</div>"
      ],
      "text/plain": [
       "                  NO.    SEMANA     PLANA    TIRAJE  AUDIENCIA     COSTO  \\\n",
       "NO.          1.000000  0.800175  0.087148 -0.047083   0.008040  0.060801   \n",
       "SEMANA       0.800175  1.000000  0.040986 -0.060656  -0.021628  0.029482   \n",
       "PLANA        0.087148  0.040986  1.000000 -0.053451  -0.053399  0.803669   \n",
       "TIRAJE      -0.047083 -0.060656 -0.053451  1.000000   0.870019 -0.063335   \n",
       "AUDIENCIA    0.008040 -0.021628 -0.053399  0.870019   1.000000 -0.120966   \n",
       "COSTO        0.060801  0.029482  0.803669 -0.063335  -0.120966  1.000000   \n",
       "COSTO DOLAR  0.055272  0.021506  0.791219 -0.060678  -0.120413  0.987860   \n",
       "AÑO               NaN       NaN       NaN       NaN        NaN       NaN   \n",
       "\n",
       "             COSTO DOLAR  AÑO  \n",
       "NO.             0.055272  NaN  \n",
       "SEMANA          0.021506  NaN  \n",
       "PLANA           0.791219  NaN  \n",
       "TIRAJE         -0.060678  NaN  \n",
       "AUDIENCIA      -0.120413  NaN  \n",
       "COSTO           0.987860  NaN  \n",
       "COSTO DOLAR     1.000000  NaN  \n",
       "AÑO                  NaN  NaN  "
      ]
     },
     "execution_count": 550,
     "metadata": {},
     "output_type": "execute_result"
    }
   ],
   "source": [
    "periodicos.corr()"
   ]
  },
  {
   "cell_type": "code",
   "execution_count": 551,
   "id": "7eb53014-0b1c-4bec-bdb9-8f983c41e516",
   "metadata": {},
   "outputs": [
    {
     "data": {
      "image/png": "[encoded data removed]",
      "text/plain": [
       "<Figure size 1152x576 with 1 Axes>"
      ]
     },
     "metadata": {
      "needs_background": "light"
     },
     "output_type": "display_data"
    }
   ],
   "source": [
    "fig, ax = plt.subplots(figsize=(16,8))\n",
    "ax.scatter(periodicos['COSTO'], periodicos['AUDIENCIA'])\n",
    "# ax.set_xlabel('Proportion of non-retail business acres per town')\n",
    "# ax.set_ylabel('Full-value property-tax rate per $10,000')\n",
    "plt.show()"
   ]
  },
  {
   "cell_type": "code",
   "execution_count": null,
   "id": "13404b9d-594c-47a0-84be-8c38594af294",
   "metadata": {},
   "outputs": [],
   "source": []
  }
 ],
 "metadata": {
  "kernelspec": {
   "display_name": "alephDS",
   "language": "python",
   "name": "ds"
  },
  "language_info": {
   "codemirror_mode": {
    "name": "ipython",
    "version": 3
   },
   "file_extension": ".py",
   "mimetype": "text/x-python",
   "name": "python",
   "nbconvert_exporter": "python",
   "pygments_lexer": "ipython3",
   "version": "3.8.8"
  }
 },
 "nbformat": 4,
 "nbformat_minor": 5
}
